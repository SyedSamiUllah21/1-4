{
 "cells": [
  {
   "cell_type": "code",
   "execution_count": null,
   "metadata": {},
   "outputs": [],
   "source": [
    "#luhn_algorithm\n",
    "def luhn_algorithm(card_no):\n",
    "    def digits_of(number):\n",
    "        return [int(d) for d in str(number)]\n",
    "    \n",
    "    digits = digits_of(card_no)\n",
    "    sum = 0\n",
    " \n",
    "    for index, digit in enumerate(reversed(digits)):\n",
    "        if index % 2 == 1:\n",
    "            doubled = digit * 2\n",
    "            if doubled > 9:\n",
    "                doubled -= 9\n",
    "            sum += doubled\n",
    "        else:\n",
    "            sum += digit\n",
    "\n",
    "    return (sum % 10) == 0\n",
    "\n",
    "card_no = 2184567112345677  \n",
    "\n",
    "if luhn_algorithm(card_no):\n",
    "    print(\"Valid card number\")\n",
    "else:\n",
    "    print(\"Invalid card number\")\n"
   ]
  },
  {
   "cell_type": "code",
   "execution_count": 2,
   "metadata": {},
   "outputs": [
    {
     "name": "stdout",
     "output_type": "stream",
     "text": [
      "Hello World This is a test sentence\n"
     ]
    },
    {
     "name": "stderr",
     "output_type": "stream",
     "text": [
      "<>:3: SyntaxWarning: invalid escape sequence '\\,'\n",
      "<>:3: SyntaxWarning: invalid escape sequence '\\,'\n",
      "C:\\Users\\syeds\\AppData\\Local\\Temp\\ipykernel_5652\\131122827.py:3: SyntaxWarning: invalid escape sequence '\\,'\n",
      "  punctuations = '''!()-[]{};:'\"\\,<>./?@#$%^&*_~'''\n"
     ]
    }
   ],
   "source": [
    "#remove_punctuation\n",
    "def remove_punctuation(text):\n",
    "    punctuations = '''!()-[]{};:'\"\\,<>./?@#$%^&*_~'''\n",
    "    cleaned_text = \"\"\n",
    "\n",
    "    for character in text:\n",
    "        if character not in punctuations:\n",
    "            cleaned_text += character\n",
    "\n",
    "    return cleaned_text\n",
    "\n",
    "ip = \"Hello, World! This is a test sentence.\"\n",
    "print(remove_punctuation(ip))\n"
   ]
  },
  {
   "cell_type": "code",
   "execution_count": null,
   "metadata": {},
   "outputs": [],
   "source": [
    "#alphabetical_order\n",
    "def alphabetical_order(words):\n",
    "    word_list = words.split()\n",
    "    x = len(word_list)\n",
    "    \n",
    "    for i in range(x):\n",
    "        for j in range(x - i - 1):\n",
    "            if word_list[j] > word_list[j + 1]:\n",
    "                word_list[j], word_list[j + 1] = word_list[j + 1], word_list[j]\n",
    "    \n",
    "    return ' '.join(word_list)\n",
    "\n",
    "sentence = \"sorting these words alphabetically without sort function\"\n",
    "print(alphabetical_order(sentence))\n"
   ]
  }
 ],
 "metadata": {
  "kernelspec": {
   "display_name": "Python 3",
   "language": "python",
   "name": "python3"
  },
  "language_info": {
   "codemirror_mode": {
    "name": "ipython",
    "version": 3
   },
   "file_extension": ".py",
   "mimetype": "text/x-python",
   "name": "python",
   "nbconvert_exporter": "python",
   "pygments_lexer": "ipython3",
   "version": "3.12.1"
  }
 },
 "nbformat": 4,
 "nbformat_minor": 2
}
